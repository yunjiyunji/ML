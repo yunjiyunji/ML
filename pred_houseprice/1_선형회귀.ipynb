{
  "nbformat": 4,
  "nbformat_minor": 0,
  "metadata": {
    "colab": {
      "provenance": [],
      "collapsed_sections": [],
      "authorship_tag": "ABX9TyOVCL4MuwPLD10hcqyN5avA",
      "include_colab_link": true
    },
    "kernelspec": {
      "name": "python3",
      "display_name": "Python 3"
    },
    "language_info": {
      "name": "python"
    }
  },
  "cells": [
    {
      "cell_type": "markdown",
      "metadata": {
        "id": "view-in-github",
        "colab_type": "text"
      },
      "source": [
        "<a href=\"https://colab.research.google.com/github/yunjiyunji/ML/blob/main/pred_houseprice/1_%EC%84%A0%ED%98%95%ED%9A%8C%EA%B7%80.ipynb\" target=\"_parent\"><img src=\"https://colab.research.google.com/assets/colab-badge.svg\" alt=\"Open In Colab\"/></a>"
      ]
    },
    {
      "cell_type": "markdown",
      "source": [
        "## **부산 남구 아파트 가격 예측**\n",
        "- 국토교통부에서 제공하는 주택 매매 실거래가 데이터 활용 http://rtdown.molit.go.kr/\n",
        "- 2017-2021 아파트 매매 실거래가 데이터를 사용해 linear regression model 생성\n",
        "- 2022 아파트 매매 가격을 예측하고 실제 데이터와 비교"
      ],
      "metadata": {
        "id": "0xt51odBx0fY"
      }
    },
    {
      "cell_type": "code",
      "source": [
        "import pandas as pd\n",
        "import numpy as np\n",
        "import torch\n",
        "import torch.nn as nn\n",
        "import torch.nn.functional as F\n",
        "import torch.optim as optim\n",
        "from torch.utils.data import DataLoader, TensorDataset"
      ],
      "metadata": {
        "id": "qe6Q-5yuU3cl"
      },
      "execution_count": 1,
      "outputs": []
    },
    {
      "cell_type": "code",
      "execution_count": 2,
      "metadata": {
        "colab": {
          "base_uri": "https://localhost:8080/"
        },
        "id": "zvPjGvT7Q7X_",
        "outputId": "2cbbcbcd-84ef-49eb-f78d-4da2a230d166"
      },
      "outputs": [
        {
          "output_type": "stream",
          "name": "stdout",
          "text": [
            "Mounted at /content/drive\n"
          ]
        }
      ],
      "source": [
        "from google.colab import drive\n",
        "drive.mount('/content/drive')"
      ]
    },
    {
      "cell_type": "code",
      "source": [
        "# train.csv - 부산 남구 아파트 매매 실거래가 2017-2021 데이터\n",
        "df = pd.read_csv('/content/drive/MyDrive/wap AI/train.csv', encoding='cp949', thousands = ',')"
      ],
      "metadata": {
        "id": "a36SJYuxgV2V"
      },
      "execution_count": 3,
      "outputs": []
    },
    {
      "cell_type": "markdown",
      "source": [
        "### Linear Regression - Gradient Descent"
      ],
      "metadata": {
        "id": "wRjGJ1PyhWfD"
      }
    },
    {
      "cell_type": "code",
      "source": [
        "# 데이터 - 숫자형 변수를 가지는 컬럼\n",
        "xy = df[['계약년월', '계약일','전용면적(㎡)', '층', '건축년도','거래금액(만원)']].values\n",
        "\n",
        "# 텐서 형태로\n",
        "x = torch.FloatTensor(xy[:, 0:-1])\n",
        "y = torch.FloatTensor(xy[:, [-1]])\n",
        "\n",
        "# 모델 선언 및 초기화\n",
        "model = nn.Linear(5,1)\n",
        "\n",
        "# optimizer 설정 - 경사하강법\n",
        "optimizer = torch.optim.SGD(model.parameters(), lr=1e-6)\n",
        "\n",
        "# 에포크 반복\n",
        "for epoch in range(100):\n",
        "\n",
        "  # H(x) 계산 (모델의 예측값)\n",
        "  prediction = model(x)\n",
        "\n",
        "  # cost 계산 (MSE 손실 계산)\n",
        "  cost = F.mse_loss(prediction, y)\n",
        "\n",
        "  # cost로 H(x) 개선\n",
        "  # gradient를 0으로 초기화\n",
        "  optimizer.zero_grad()\n",
        "  # 비용함수를 미분하여 gradient 계산\n",
        "  cost.backward() # 오차 역전파\n",
        "  # W와 b 업데이트 (최적화 진행)\n",
        "  optimizer.step()\n",
        "\n",
        "  if epoch % 10 == 0:\n",
        "    print(f'epoch{epoch} cost:{cost.item()}')"
      ],
      "metadata": {
        "colab": {
          "base_uri": "https://localhost:8080/"
        },
        "id": "oikzZW9wNcWk",
        "outputId": "dca93bf0-7ab2-4bba-aa77-790e3078e075"
      },
      "execution_count": 4,
      "outputs": [
        {
          "output_type": "stream",
          "name": "stdout",
          "text": [
            "epoch0 cost:8187419648.0\n",
            "epoch10 cost:nan\n",
            "epoch20 cost:nan\n",
            "epoch30 cost:nan\n",
            "epoch40 cost:nan\n",
            "epoch50 cost:nan\n",
            "epoch60 cost:nan\n",
            "epoch70 cost:nan\n",
            "epoch80 cost:nan\n",
            "epoch90 cost:nan\n"
          ]
        }
      ]
    },
    {
      "cell_type": "markdown",
      "source": [
        "\n",
        "\n",
        "> ### 비용함수 nan인 이유\n",
        " 1) gradient의 값이 너무 커서 weight 업데이트 시 발산되어 weight가 nan이 됨\n",
        "- learning rate 를 작게 하여 시도해보았으나 문제가 해결되지 않음\n",
        ">\n",
        ">2) **확률적 경사하강법(SGD)의 한계**\n",
        ">\n",
        ">- **다른 최적화 알고리즘** 탐색\n",
        ">\n",
        ">3) 데이터 정규화"
      ],
      "metadata": {
        "id": "xzxxHOBbK0UW"
      }
    },
    {
      "cell_type": "markdown",
      "source": [
        "### Linear Regression - Adam optimizer"
      ],
      "metadata": {
        "id": "QOAqzAxNhe3j"
      }
    },
    {
      "cell_type": "markdown",
      "source": [],
      "metadata": {
        "id": "w47bKEtzy56P"
      }
    },
    {
      "cell_type": "code",
      "source": [
        "# 데이터 - 숫자형 변수를 가지는 컬럼\n",
        "xy = df[['계약년월', '계약일','전용면적(㎡)', '층', '건축년도','거래금액(만원)']].values\n",
        "\n",
        "# 텐서 형태로\n",
        "x = torch.FloatTensor(xy[:, 0:-1])\n",
        "y = torch.FloatTensor(xy[:, [-1]])\n",
        "\n",
        "# 모델 선언 및 초기화\n",
        "model = nn.Linear(5,1)\n",
        "\n",
        "# optimizer 설정 - Adam\n",
        "optimizer = torch.optim.Adam(model.parameters(),lr = 0.1)\n",
        "\n",
        "# 에포크 반복\n",
        "for epoch in range(1000000):\n",
        "\n",
        "  # H(x) 계산 (모델의 예측값)\n",
        "  prediction = model(x)\n",
        "\n",
        "  # cost 계산 (MSE 손실 계산)\n",
        "  cost = F.mse_loss(prediction, y)\n",
        "\n",
        "  # cost로 H(x) 개선\n",
        "  # gradient를 0으로 초기화\n",
        "  optimizer.zero_grad()\n",
        "  # 비용함수를 미분하여 gradient 계산\n",
        "  cost.backward() # 오차 역전파\n",
        "  # W와 b 업데이트 (최적화 진행)\n",
        "  optimizer.step()\n",
        "\n",
        "  if epoch % 100000 == 0:\n",
        "    print(f'epoch{epoch} cost:{cost.item()}')"
      ],
      "metadata": {
        "colab": {
          "base_uri": "https://localhost:8080/"
        },
        "id": "m8I72yQxhI6q",
        "outputId": "9fd992f0-e529-46c6-d917-d8c0fe251b7c"
      },
      "execution_count": 5,
      "outputs": [
        {
          "output_type": "stream",
          "name": "stdout",
          "text": [
            "epoch0 cost:14410732544.0\n",
            "epoch100000 cost:305517664.0\n",
            "epoch200000 cost:295444512.0\n",
            "epoch300000 cost:293474464.0\n",
            "epoch400000 cost:293084640.0\n",
            "epoch500000 cost:293008256.0\n",
            "epoch600000 cost:292992416.0\n",
            "epoch700000 cost:292988992.0\n",
            "epoch800000 cost:292988256.0\n",
            "epoch900000 cost:293086880.0\n"
          ]
        }
      ]
    },
    {
      "cell_type": "markdown",
      "source": [
        "### 2022 데이터 예측"
      ],
      "metadata": {
        "id": "gvZ2l0yTjfYA"
      }
    },
    {
      "cell_type": "code",
      "source": [
        "# test.csv - 부산 남구 아파트 매매 실거래가 2022 데이터 (10월13일까지 데이터)\n",
        "test_df = pd.read_csv('/content/drive/MyDrive/wap AI/test.csv', encoding='cp949', thousands = ',')\n",
        "test_xy = test_df[['계약년월', '계약일','전용면적(㎡)', '층', '건축년도','거래금액(만원)']].values\n",
        "x_test = torch.FloatTensor(test_xy[:,0:-1])\n",
        "y_test = torch.FloatTensor(test_xy[:,[-1]])"
      ],
      "metadata": {
        "id": "nFSdrKhBME5e"
      },
      "execution_count": 6,
      "outputs": []
    },
    {
      "cell_type": "code",
      "source": [
        "y_pred = model(x_test)"
      ],
      "metadata": {
        "id": "Oss0Ab32kt0P"
      },
      "execution_count": 7,
      "outputs": []
    },
    {
      "cell_type": "code",
      "source": [
        "for i in range(10):\n",
        "  print('예측된 가격:',int(y_pred[i].item()), '실제 거래금액:', y_test[i].item())"
      ],
      "metadata": {
        "colab": {
          "base_uri": "https://localhost:8080/"
        },
        "id": "SjOSeNvHmbCu",
        "outputId": "1efe30e6-42ca-4f16-cdae-50830bcbe229"
      },
      "execution_count": 8,
      "outputs": [
        {
          "output_type": "stream",
          "name": "stdout",
          "text": [
            "예측된 가격: 19812 실제 거래금액: 16200.0\n",
            "예측된 가격: 16298 실제 거래금액: 16300.0\n",
            "예측된 가격: 16696 실제 거래금액: 16500.0\n",
            "예측된 가격: 16352 실제 거래금액: 17250.0\n",
            "예측된 가격: 22696 실제 거래금액: 17500.0\n",
            "예측된 가격: 23093 실제 거래금액: 17500.0\n",
            "예측된 가격: 22773 실제 거래금액: 22500.0\n",
            "예측된 가격: 16721 실제 거래금액: 18700.0\n",
            "예측된 가격: 22428 실제 거래금액: 18000.0\n",
            "예측된 가격: 31903 실제 거래금액: 25000.0\n"
          ]
        }
      ]
    }
  ]
}